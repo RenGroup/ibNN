{
 "cells": [
  {
   "cell_type": "code",
   "execution_count": 15,
   "metadata": {},
   "outputs": [],
   "source": [
    "import numpy\n",
    "import scipy.special\n",
    "\n",
    "#neural network class definition\n",
    "class neuralNetwork :\n",
    "    #initialise the neural network\n",
    "    def __init__( self, inputnodes, hiddennodes, outputnodes, learningrate, wMa_wih, wMa_who) :\n",
    "        # set number of nodes in each input, hidden, output layer\n",
    "        self.inodes = inputnodes\n",
    "        self.hnodes = hiddennodes\n",
    "        self.onodes = outputnodes\n",
    "        \n",
    "        #link weight matrices, wih and who\n",
    "        self.wih = wMa_wih.T # the shape of the wih is (hidden,input)\n",
    "        self.who = wMa_who.T # the shape of the who is (output,hidden)\n",
    "        \n",
    "        #learning rate\n",
    "        self.lr = learningrate\n",
    "        \n",
    "        #activation function is the sigmoid function\n",
    "        self.activation_function = lambda x: scipy.special.expit(x)\n",
    "        \n",
    "        pass\n",
    "    #train the neural network\n",
    "    def train(self, inputs_list, targets_list) :\n",
    "        #convert inputs list to 2d array\n",
    "        inputs = numpy.array(inputs_list, ndmin = 2).T\n",
    "        targets = numpy.array(targets_list, ndmin = 2).T\n",
    "        \n",
    "        #calculate signals into hidden layer\n",
    "        hidden_inputs = numpy.dot(self.wih, inputs)\n",
    "        #calculate the signals emerging from hidden layer\n",
    "        hidden_outputs = self.activation_function(hidden_inputs)\n",
    "        \n",
    "        #calculate signals into final output layer\n",
    "        final_inputs = numpy.dot(self.who, hidden_outputs)\n",
    "        #calculate the signals emerging from final output layer\n",
    "        final_outputs = self.activation_function(final_inputs)\n",
    "        #output layer error is (target - actual)\n",
    "        output_errors = targets - final_outputs\n",
    "        self.output_errors = targets - final_outputs\n",
    "        #hidden layer error is the output_errors, split by weights, recombined at hidden nodes\n",
    "        hidden_errors = numpy.dot(self.who.T, output_errors)\n",
    "        \n",
    "        #update the weights for the links between the hidden and output layers\n",
    "        self.who += self.lr * numpy.dot((output_errors * final_outputs * (1.0 - final_outputs)), numpy.transpose(hidden_outputs))\n",
    "        \n",
    "        #update the weights for the links between the input and hidden layers\n",
    "        self.wih += self.lr * numpy.dot((hidden_errors * hidden_outputs * (1.0 - hidden_outputs)), numpy.transpose(inputs))\n",
    "        \n",
    "        pass\n",
    "    #query the neural network\n",
    "    def query(self, inputs_list) :\n",
    "        #convert input list to 2d array\n",
    "        inputs = numpy.array(inputs_list, ndmin = 2).T\n",
    "        \n",
    "        #calculate signals into hidden layer\n",
    "        hidden_inputs = numpy.dot(self.wih, inputs)\n",
    "        #calculate the signals emerging from hidden layer\n",
    "        hidden_outputs = self.activation_function(hidden_inputs)\n",
    "        \n",
    "        #calculate signals into final output layer\n",
    "        final_inputs = numpy.dot(self.who, hidden_outputs)\n",
    "        #calculate the signals emerging from final output layer\n",
    "        final_outputs = self.activation_function(final_inputs)\n",
    "        return final_outputs\n",
    "        pass"
   ]
  },
  {
   "cell_type": "code",
   "execution_count": 16,
   "metadata": {},
   "outputs": [],
   "source": [
    "#load weight matrix\n",
    "wMa_pprel_file = open (\"/Users/chix/neuralNetwork/wMa.pprel.txt\",'r') #change this to the correct dir\n",
    "wMa_pprel_list = wMa_pprel_file.readlines()\n",
    "wMa_pprel_file.close()\n",
    "wMa_pprel_col_geneID = wMa_pprel_list[0]\n",
    "wMa_pprel_col_geneID = wMa_pprel_col_geneID[1:-1].split(\"\\t\") #remove \"\\n\" and split by \"\\t\"\n",
    "for i in range(1,len(wMa_pprel_list)):\n",
    "    record = wMa_pprel_list[i][:-1]\n",
    "    wMa_pprel_list[i] = numpy.asfarray(record.split('\\t'))\n",
    "wMa_pprel_all = numpy.asarray(wMa_pprel_list[1:])\n",
    "wMa_pprel_row_geneID = wMa_pprel_all[:,0].astype(int) #store the row gene ID, convert the float type to int\n",
    "wMa_pprel_all = wMa_pprel_all[:,1:]\n",
    "\n",
    "wMa_tf_file = open (\"/Users/chix/neuralNetwork/wMa.tf.txt\",'r') #change this to the correct dir\n",
    "wMa_tf_list = wMa_tf_file.readlines()\n",
    "wMa_tf_file.close()\n",
    "wMa_tf_col_geneID = wMa_tf_list[0]\n",
    "wMa_tf_col_geneID = wMa_tf_col_geneID[1:-1].split(\"\\t\") #remove \"\\n\" and split by \"\\t\"\n",
    "for i in range(1,len(wMa_tf_list)):\n",
    "    record = wMa_tf_list[i][:-1]\n",
    "    wMa_tf_list[i] = numpy.asfarray(record.split('\\t'))\n",
    "wMa_tf_all = numpy.asarray(wMa_tf_list[1:])\n",
    "wMa_tf_row_geneID = wMa_tf_all[:,0].astype(int) #store the row gene ID, convert the float type to int\n",
    "wMa_tf_all = wMa_tf_all[:,1:]"
   ]
  },
  {
   "cell_type": "code",
   "execution_count": 17,
   "metadata": {},
   "outputs": [],
   "source": [
    "#load scRNA-seq data\n",
    "import numpy\n",
    "sc_data_file = open (\"/Users/chix/neuralNetwork/Pellin2019/exprMa_hsc_rmDup_pellin_github.txt\",'r')\n",
    "sc_data_list = sc_data_file.readlines()\n",
    "sc_data_file.close()\n",
    "cell_barcode = sc_data_list[0]\n",
    "for i in range(1,len(sc_data_list)):\n",
    "    record=str(sc_data_list[i][:-1])\n",
    "    #tmp_data=record.split('\\t')\n",
    "    sc_data_list[i] = numpy.asarray(record.split('\\t'))\n",
    "sc_data=numpy.asarray(sc_data_list[1:]) #all the expr data\n",
    "nCell_positive = numpy.array([])\n",
    "for i in range(sc_data.shape[0]):\n",
    "    index_positive = [j for j in range(3,len(sc_data[i,:])) if float(sc_data[i,j]) > 0]\n",
    "    nCell_positive = numpy.append(nCell_positive,len(index_positive))\n",
    "index_positive = [j for j in range(len(nCell_positive)) if float(nCell_positive[j]) > 3]\n",
    "sc_data = sc_data[index_positive,:]"
   ]
  },
  {
   "cell_type": "code",
   "execution_count": 18,
   "metadata": {},
   "outputs": [
    {
     "data": {
      "text/plain": [
       "(12064, 1284)"
      ]
     },
     "execution_count": 18,
     "metadata": {},
     "output_type": "execute_result"
    }
   ],
   "source": [
    "sc_data.shape"
   ]
  },
  {
   "cell_type": "code",
   "execution_count": 19,
   "metadata": {},
   "outputs": [
    {
     "name": "stdout",
     "output_type": "stream",
     "text": [
      "Number of testing cells is 428\n"
     ]
    }
   ],
   "source": [
    "##select the cells according to the barcode annotation file for a specific cell type\n",
    "#sc_data_sub = sc_data[:,numpy.isin(cell_barcodes, barcode)]\n",
    "#print(sc_data_sub.shape, cell_type)\n",
    "sc_data_sub = numpy.array(sc_data)\n",
    "test_cells = sc_data_sub.shape[1]/3\n",
    "if(test_cells > 1):\n",
    "    test_cells = int(test_cells)\n",
    "    print(\"Number of testing cells is\",test_cells)\n",
    "else:\n",
    "    print(\"Not enough cells for test of overfit.\"+\"\\n\")"
   ]
  },
  {
   "cell_type": "code",
   "execution_count": 20,
   "metadata": {},
   "outputs": [
    {
     "data": {
      "text/plain": [
       "(12064, 1284)"
      ]
     },
     "execution_count": 20,
     "metadata": {},
     "output_type": "execute_result"
    }
   ],
   "source": [
    "sc_data_sub.shape"
   ]
  },
  {
   "cell_type": "code",
   "execution_count": 21,
   "metadata": {},
   "outputs": [
    {
     "name": "stdout",
     "output_type": "stream",
     "text": [
      "(12064, 1284)\n"
     ]
    }
   ],
   "source": [
    "#create test dataset\n",
    "##a fraction (1/3 or 1/10) of the expressed genes in each cell will be masked (to be zero). \n",
    "##The real values of these masked genes will be stored in another matrix, to compare with imputed values\n",
    "import random\n",
    "test_dataset = numpy.array(sc_data_sub.T[2:,:])\n",
    "masked_test_dataset = numpy.array(test_dataset)\n",
    "ori_values = numpy.zeros((test_dataset.shape[0],test_dataset.shape[1]))\n",
    "for i in (range(test_dataset.shape[0])): #each row is a cell\n",
    "    index_positive = [j for j in range(len(test_dataset[i,:])) if float(test_dataset[i,j]) > 0]\n",
    "    index_masked = random.sample(index_positive,int(len(index_positive)/10))\n",
    "    #index_left = numpy.array(index_positive)[(numpy.isin(index_positive,index_masked)==False).nonzero()[0]]\n",
    "    masked_test_dataset[i,index_masked] = 0 #converting the masked genes' values to 0\n",
    "    ori_values[i,index_masked] = numpy.array(test_dataset[i,index_masked]) #storing the original values of the genes\n",
    "#masking sc_data_sub\n",
    "print(sc_data_sub.shape)\n",
    "sc_data_sub_bk = numpy.array(sc_data_sub)\n",
    "sc_data_sub[:,2:] = numpy.array(masked_test_dataset.T)"
   ]
  },
  {
   "cell_type": "code",
   "execution_count": 22,
   "metadata": {
    "scrolled": true
   },
   "outputs": [
    {
     "name": "stdout",
     "output_type": "stream",
     "text": [
      "Calculating error estimations for round 1\n",
      "Calculating error estimations for round 2\n",
      "Calculating error estimations for round 3\n",
      "Calculating error estimations for round 4\n",
      "Calculating error estimations for round 5\n",
      "Calculating error estimations for round 6\n",
      "Calculating error estimations for round 7\n",
      "Calculating error estimations for round 8\n",
      "Calculating error estimations for round 9\n",
      "Calculating error estimations for round 10\n"
     ]
    }
   ],
   "source": [
    "#train the NN\n",
    "updated_genes = numpy.array([])\n",
    "arr_squared_all = numpy.array([])\n",
    "arr_root_all =numpy.array([])\n",
    "for j in range(10):\n",
    "    for i in range(test_cells,sc_data_sub.shape[1]-2):\n",
    "    #for i in range(0,2):\n",
    "        cell_ind=i+1 #the i th cell\n",
    "        index = [k for k in range(len(sc_data_sub.T[cell_ind+1,:])) if float(sc_data_sub.T[cell_ind+1,k]) > 0] #index of the gene expr >0 \n",
    "        expr=numpy.array(sc_data_sub.T[cell_ind+1,:])[index] #gene expr\n",
    "        geneNames = numpy.array(sc_data_sub.T[1,:])[index] #gene names\n",
    "        #intersect input and weight matrix\n",
    "        ##for inputs and wih\n",
    "        xy, xy_ind1, xy_ind2 = numpy.intersect1d(geneNames, wMa_pprel_row_geneID, return_indices = True)\n",
    "        expr_sub = expr[xy_ind1] #intersect will also sort the indices, so that the genes of expr_sub and wMa_pprel_sub will match\n",
    "        wMa_pprel_sub = wMa_pprel_all[xy_ind2,] #!the wih of this cell\n",
    "        wMa_pprel_row_geneID_sub = wMa_pprel_row_geneID[xy_ind2]#the gene id of the wih of a single cell\n",
    "        ##need to store the rest of the weight matrix\n",
    "        rest_list = list(set(wMa_pprel_row_geneID.astype(int)) - set(xy.astype(int)))\n",
    "        xy,rest_ind1,xy_ind2 = numpy.intersect1d(wMa_pprel_row_geneID,rest_list,return_indices = True)\n",
    "        wMa_pprel_rest = wMa_pprel_all[rest_ind1,] #!the rest of the wih, which will be concatencated to the updated wMa_pprel_sub\n",
    "        wMa_pprel_row_geneID_rest = wMa_pprel_row_geneID[rest_ind1,] #the row gene id of the rest of the wih\n",
    "        wMa_pprel_row_geneID_new = numpy.concatenate((wMa_pprel_row_geneID_sub,wMa_pprel_row_geneID_rest),axis = None) #!the row gene id of the new wih\n",
    "        inputs = expr_sub #!the input of the training data\n",
    "        ##for who and targets\n",
    "        xy, xy_ind1, xy_ind2 = numpy.intersect1d(geneNames, wMa_tf_col_geneID, return_indices = True)\n",
    "        expr_sub = expr[xy_ind1]\n",
    "        wMa_tf_sub = wMa_tf_all[:,xy_ind2] #!the who of this cell\n",
    "        wMa_tf_col_geneID_sub = numpy.asarray(wMa_tf_col_geneID)[xy_ind2] #the gene id of the who of a single cell\n",
    "        updated_genes = numpy.union1d(updated_genes, wMa_tf_col_geneID_sub) #the union of the genes used as targets when querying the network\n",
    "        ##need to store the rest of the weight matrix\n",
    "        wMa_tf_col_geneID = numpy.asarray(wMa_tf_col_geneID)\n",
    "        rest_list = list(set(wMa_tf_col_geneID.astype(int)) - set(xy.astype(int)))\n",
    "        xy,rest_ind1,xy_ind2 = numpy.intersect1d(wMa_tf_col_geneID,rest_list,return_indices = True)\n",
    "        wMa_tf_rest = wMa_tf_all[:,rest_ind1] #!the rest of the who, which will be concatencated to the updated wMa_tf_sub\n",
    "        wMa_tf_col_geneID_rest = wMa_tf_col_geneID[rest_ind1] #! the column gene id of the rest of who\n",
    "        wMa_tf_col_geneID_new = numpy.concatenate((wMa_tf_col_geneID_sub,wMa_tf_col_geneID_rest),axis = None) #!the col gene id of the new who\n",
    "        targets = expr_sub #!the target of the training data\n",
    "        inputs = numpy.asfarray(inputs)\n",
    "        targets = numpy.asfarray(targets)\n",
    "        #number of input, hidden and output nodes\n",
    "        input_nodes = wMa_pprel_sub.shape[0]\n",
    "        hidden_nodes = wMa_pprel_sub.shape[1]\n",
    "        output_nodes = wMa_tf_sub.shape[1]\n",
    "        #learning rate\n",
    "        learning_rate = 0.004\n",
    "        #create instance of neural network\n",
    "        n = neuralNetwork(input_nodes,hidden_nodes,output_nodes,learning_rate, wMa_pprel_sub, wMa_tf_sub)\n",
    "        scaleFac= numpy.max(targets) # the training data set is also scaled by this scale factor\n",
    "        targets = targets/scaleFac\n",
    "        inputs = inputs/scaleFac\n",
    "        #train the neural network\n",
    "        epochs = 2\n",
    "        errorList=list() #this is used to check the changes of the errors\n",
    "        for e in range(epochs):\n",
    "            n.train(inputs,targets)\n",
    "            errorList.append(n.output_errors)\n",
    "        #after training the nn, update the original total weight matrix\n",
    "        tmp_wMa_pprel=numpy.vstack((n.wih.T,wMa_pprel_rest))\n",
    "        tmp_wMa_tf = numpy.hstack((n.who.T,wMa_tf_rest))\n",
    "        wMa_pprel_all = tmp_wMa_pprel\n",
    "        wMa_pprel_row_geneID = wMa_pprel_row_geneID_new #update the gene id of the new matrix, since the order of the genes has been changed\n",
    "        wMa_tf_all = tmp_wMa_tf\n",
    "        wMa_tf_col_geneID = wMa_tf_col_geneID_new #similar reason to pprel\n",
    "        #print(\"Done training network for cell\", cell_ind, \"round\",j+1)\n",
    "    #begin to calculate errors for each cell\n",
    "    print(\"Calculating error estimations for round\",j+1)\n",
    "    arr_squared=numpy.array([])\n",
    "    arr_root=numpy.array([])\n",
    "    #for i in range(sc_data_sub.shape[1]-2):\n",
    "    for i in range(test_cells):\n",
    "        cell_ind=i+1\n",
    "        index = [k for k in range(len(sc_data_sub.T[cell_ind+1,:])) if float(sc_data_sub.T[cell_ind+1,k]) > 0] #index of the gene expr >0 \n",
    "        expr=numpy.array(sc_data_sub.T[cell_ind+1,:])[index] #gene expr\n",
    "        geneNames = numpy.array(sc_data_sub.T[1,:])[index] #gene names\n",
    "        #intersect input and weight matrix\n",
    "        ##for inputs and wih\n",
    "        xy, xy_ind1, xy_ind2 = numpy.intersect1d(geneNames, wMa_pprel_row_geneID, return_indices = True)\n",
    "        expr_sub = expr[xy_ind1]\n",
    "        wMa_pprel_sub = wMa_pprel_all[xy_ind2,] #!the wih of this cell\n",
    "        inputs = expr_sub #!the input of the training data\n",
    "        ##for who and targets, the weight matrix is wMa_tf_updated\n",
    "        xy, xy_ind1, xy_ind2 = numpy.intersect1d(updated_genes, wMa_tf_col_geneID, return_indices = True)\n",
    "        #expr_sub = expr[xy_ind1]\n",
    "        wMa_tf_updated = wMa_tf_all[:,xy_ind2] #!the who of this cell\n",
    "        wMa_tf_col_geneID_sub = wMa_tf_col_geneID[xy_ind2] #the gene id of the who of a single cell\n",
    "        inputs = numpy.asfarray(inputs)\n",
    "        #targets = numpy.asfarray(targets)\n",
    "        #number of input, hidden and output nodes\n",
    "        input_nodes = wMa_pprel_sub.shape[0]\n",
    "        hidden_nodes = wMa_pprel_sub.shape[1]\n",
    "        output_nodes2 = wMa_tf_updated.shape[1]\n",
    "        #learning rate\n",
    "        learning_rate = 0.2 #this will not be used since the newly created instance will only be queried but not trained\n",
    "        #the weight matrix of who has to be created by taking the \"updated_genes\" into account\n",
    "        \n",
    "        #create instance of neural network. We don't need to train this network; we will only use this instance to query/imputate\n",
    "        n = neuralNetwork(input_nodes,hidden_nodes,output_nodes2,learning_rate, wMa_pprel_sub, wMa_tf_updated)\n",
    "        scaleFac= numpy.max(targets) # the training data set is also scaled by this scale factor\n",
    "        #targets = targets/scaleFac\n",
    "        inputs = inputs/scaleFac\n",
    "        \n",
    "        #query the neural network\n",
    "        output_query = n.query(inputs)\n",
    "        xy, xy_ind1, xy_ind2 = numpy.intersect1d(geneNames, wMa_tf_col_geneID_sub, return_indices = True)\n",
    "        targets = numpy.asfarray(expr[xy_ind1])\n",
    "        scaleFac= numpy.max(targets)\n",
    "        targets = targets/scaleFac\n",
    "        targets = numpy.array(targets, ndmin = 2).T\n",
    "        output_targets = numpy.array(output_query[xy_ind2], ndmin = 2)\n",
    "        #print(len(targets),len(output_targets),type(targets), type(output_query))\n",
    "        #df_perc = (output_targets-targets)/targets\n",
    "        df_subtr = (output_targets - targets)*scaleFac\n",
    "        gene_num = len(df_subtr)\n",
    "        df_squared = numpy.sum(numpy.power(df_subtr,2))/numpy.power(gene_num, 1)\n",
    "        df_root = numpy.sum(numpy.power(abs(df_subtr), 0.5))/numpy.power(gene_num, 1) \n",
    "        arr_squared = numpy.append(arr_squared,df_squared)\n",
    "        arr_root = numpy.append(arr_root,df_root)\n",
    "    if(len(arr_root_all) == 0):#if they are void\n",
    "        arr_squared_all = arr_squared\n",
    "        arr_root_all = arr_root\n",
    "    else:\n",
    "        arr_squared_all = numpy.vstack((arr_squared_all,arr_squared))\n",
    "        arr_root_all = numpy.vstack((arr_root_all,arr_root))"
   ]
  },
  {
   "cell_type": "code",
   "execution_count": 23,
   "metadata": {},
   "outputs": [
    {
     "data": {
      "text/plain": [
       "<function matplotlib.pyplot.show(close=None, block=None)>"
      ]
     },
     "execution_count": 23,
     "metadata": {},
     "output_type": "execute_result"
    },
    {
     "data": {
      "image/png": "[encoded data removed]",
      "text/plain": [
       "<Figure size 640x480 with 1 Axes>"
      ]
     },
     "metadata": {},
     "output_type": "display_data"
    }
   ],
   "source": [
    "import pandas as pd\n",
    "import matplotlib.pyplot as plt\n",
    "%matplotlib inline\n",
    "plt.boxplot(arr_squared_all.T)\n",
    "plt.show"
   ]
  },
  {
   "cell_type": "code",
   "execution_count": 24,
   "metadata": {},
   "outputs": [
    {
     "data": {
      "text/plain": [
       "6.62935662007961"
      ]
     },
     "execution_count": 24,
     "metadata": {},
     "output_type": "execute_result"
    }
   ],
   "source": [
    "scaleFac"
   ]
  },
  {
   "cell_type": "code",
   "execution_count": 25,
   "metadata": {},
   "outputs": [],
   "source": [
    "#for imputation using the matched cell type and regulatory networks\n",
    "#imputation and check the prediction by the errors of target-output\n",
    "##prepare the input and target data\n",
    "#arr_squared=numpy.array([])\n",
    "#arr_root=numpy.array([])\n",
    "imputation_result = numpy.array([])\n",
    "arr_squared = numpy.array([])\n",
    "arr_root = numpy.array([])\n",
    "#array_result = sc_data_sub[:,2:] #copy from the original data selected for this cell type\n",
    "for i in range(sc_data_sub.shape[1]-2):\n",
    "    cell_ind=i+1\n",
    "    index = [i for i in range(len(sc_data_sub.T[cell_ind+1,:])) if float(sc_data_sub.T[cell_ind+1,i]) > 0] #index of the gene expr >0 \n",
    "    expr=numpy.array(sc_data_sub.T[cell_ind+1,:])[index] #gene expr\n",
    "    geneNames = numpy.array(sc_data_sub.T[1,:])[index] #gene names\n",
    "    #intersect input and weight matrix\n",
    "    ##for inputs and wih\n",
    "    xy, xy_ind1, xy_ind2 = numpy.intersect1d(geneNames, wMa_pprel_row_geneID, return_indices = True)\n",
    "    expr_sub = expr[xy_ind1]\n",
    "    wMa_pprel_sub = wMa_pprel_all[xy_ind2,] #!the wih of this cell\n",
    "    inputs = expr_sub #!the input of the training data\n",
    "    ##for who and targets, the weight matrix is wMa_tf_updated\n",
    "    xy, xy_ind1, xy_ind2 = numpy.intersect1d(updated_genes, wMa_tf_col_geneID, return_indices = True)\n",
    "    #expr_sub = expr[xy_ind1]\n",
    "    wMa_tf_updated = wMa_tf_all[:,xy_ind2] #!the who of this cell\n",
    "    wMa_tf_col_geneID_sub = wMa_tf_col_geneID[xy_ind2] #the gene id of the who of a single cell\n",
    "    inputs = numpy.asfarray(inputs)\n",
    "    #targets = numpy.asfarray(targets)\n",
    "    #number of input, hidden and output nodes\n",
    "    input_nodes = wMa_pprel_sub.shape[0]\n",
    "    hidden_nodes = wMa_pprel_sub.shape[1]\n",
    "    output_nodes2 = wMa_tf_updated.shape[1]\n",
    "    #learning rate\n",
    "    learning_rate = 0.2 #this will not be used since the newly created instance will only be queried but not trained\n",
    "    #the weight matrix of who has to be created by taking the \"updated_genes\" into account\n",
    "    \n",
    "    #create instance of neural network. We don't need to train this network; we will only use this instance to query/imputate\n",
    "    n = neuralNetwork(input_nodes,hidden_nodes,output_nodes2,learning_rate, wMa_pprel_sub, wMa_tf_updated)\n",
    "    scaleFac= numpy.max(numpy.asfarray(expr)) # the training data set is also scaled by this scale factor\n",
    "    #targets = targets/scaleFac\n",
    "    inputs = inputs/scaleFac\n",
    "    \n",
    "    #query the neural network\n",
    "    output_query = n.query(inputs)\n",
    "    #compute errors\n",
    "    xy, xy_ind1, xy_ind2 = numpy.intersect1d(geneNames, wMa_tf_col_geneID_sub, return_indices = True)\n",
    "    targets = numpy.asfarray(expr[xy_ind1])\n",
    "    #scaleFac= numpy.max(targets)\n",
    "    targets = targets/scaleFac\n",
    "    targets = numpy.array(targets, ndmin = 2).T\n",
    "    output_targets = numpy.array(output_query[xy_ind2], ndmin = 2)\n",
    "    df_subtr = output_targets - targets\n",
    "    gene_num = len(df_subtr)\n",
    "    df_squared = numpy.sum(numpy.power(df_subtr,2))/numpy.power(gene_num, 0.5)\n",
    "    df_root = numpy.sum(numpy.power(df_squared, 0.25))/numpy.power(gene_num, 0.5) # first square then **0.25, so no need to take the abs()\n",
    "    arr_squared = numpy.append(arr_squared,df_squared)\n",
    "    arr_root = numpy.append(arr_root,df_root)\n",
    "    if(len(imputation_result) == 0):\n",
    "        imputation_result = (output_query * scaleFac).T\n",
    "    else:\n",
    "        imputation_result = numpy.vstack((imputation_result, (output_query * scaleFac).T))\n",
    "    "
   ]
  },
  {
   "cell_type": "code",
   "execution_count": 26,
   "metadata": {},
   "outputs": [],
   "source": [
    "cell_type = \"HSC_BM_Pellin_github\""
   ]
  },
  {
   "cell_type": "code",
   "execution_count": 27,
   "metadata": {},
   "outputs": [
    {
     "data": {
      "text/plain": [
       "'HSC_BM_Pellin_github'"
      ]
     },
     "execution_count": 27,
     "metadata": {},
     "output_type": "execute_result"
    }
   ],
   "source": [
    "cell_type"
   ]
  },
  {
   "cell_type": "code",
   "execution_count": 28,
   "metadata": {},
   "outputs": [],
   "source": [
    "#output imputation result\n",
    "#celltype_barcodes = numpy.array(cell_barcodes)[numpy.isin(cell_barcodes, barcode)][2:]\n",
    "array_result = numpy.array(sc_data_sub[:,:])\n",
    "xy, xy_ind1, xy_ind2 = numpy.intersect1d(sc_data_sub[:,1], wMa_tf_col_geneID_sub, return_indices = True)\n",
    "for i in range(2,array_result.shape[1]):\n",
    "    array_result[xy_ind1,i]=imputation_result.T[xy_ind2,i-2]\n",
    "##each row is a gene, and the gene id are stored in wMa_tf_col_geneID_sub\n",
    "##each column is a cell, and the cell barcodes are stored in cell_barcode\n",
    "file = open(\"imputedExpr_\"+cell_type+\".txt\",\"w\")\n",
    "file.writelines(\"\\t\".join(map(str,cell_barcode)))\n",
    "file.writelines(\"\\n\")\n",
    "for i in array_result:\n",
    "    joined_line = \"\\t\".join(map(str,i))\n",
    "    file.writelines(joined_line+\"\\n\")\n",
    "file.close()"
   ]
  },
  {
   "cell_type": "code",
   "execution_count": null,
   "metadata": {},
   "outputs": [],
   "source": []
  }
 ],
 "metadata": {
  "kernelspec": {
   "display_name": "Python 3 (ipykernel)",
   "language": "python",
   "name": "python3"
  },
  "language_info": {
   "codemirror_mode": {
    "name": "ipython",
    "version": 3
   },
   "file_extension": ".py",
   "mimetype": "text/x-python",
   "name": "python",
   "nbconvert_exporter": "python",
   "pygments_lexer": "ipython3",
   "version": "3.9.13"
  }
 },
 "nbformat": 4,
 "nbformat_minor": 4
}
